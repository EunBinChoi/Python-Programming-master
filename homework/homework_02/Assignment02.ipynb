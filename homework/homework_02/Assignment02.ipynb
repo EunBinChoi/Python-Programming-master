{
 "cells": [
  {
   "cell_type": "markdown",
   "metadata": {},
   "source": [
    "## Assignment 2"
   ]
  },
  {
   "cell_type": "markdown",
   "metadata": {},
   "source": [
    "---\n",
    "<b>한국기술교육대학교 컴퓨터공학부<br>\n",
    "스크립트 프로그래밍(Script Programming)<br>\n",
    "2014136129 최은빈\n",
    "___\n"
   ]
  },
  {
   "cell_type": "markdown",
   "metadata": {},
   "source": [
    "### 1번 문제"
   ]
  },
  {
   "cell_type": "markdown",
   "metadata": {},
   "source": [
    "- 다음 6개의 Expression에 대해 Evaluation 결과 값을 출력하고, 해당 결과가 나온 이유에 대해 설명하시오.<br><br>"
   ]
  },
  {
   "cell_type": "markdown",
   "metadata": {},
   "source": [
    "> <b>논리 연산자</b> <br>\n",
    "- 논리 연산자는 그 자체의 값을 반환하는 것이 아니고, 논리 연산에 따라 평가되어진 값을 반환하게 된다.\n",
    "- 먼저 and 연산자의 우선순위가 or 연산자의 우선순위보다 높다."
   ]
  },
  {
   "cell_type": "markdown",
   "metadata": {},
   "source": [
    "- (1) 1 and 2 and 3 and 4"
   ]
  },
  {
   "cell_type": "code",
   "execution_count": 14,
   "metadata": {},
   "outputs": [
    {
     "name": "stdout",
     "output_type": "stream",
     "text": [
      "4\n"
     ]
    }
   ],
   "source": [
    "print (1 and 2 and 3 and 4)"
   ]
  },
  {
   "cell_type": "markdown",
   "metadata": {},
   "source": [
    "> - <b>and 연산자 : 연산자 앞이 True일 경우 뒤의 값을 평가해서 그것을 반환</b><br>\n",
    "\n",
    ">  1 and 2 and 3 and 4 에서 1이 True이므로 뒤의 2를, 2 and 3 and 4 에서는 2가 True이므로 뒤의 3을, 다시 3 and 4 에서는 3이 True이므로 결과적으로 4가 반환한다."
   ]
  },
  {
   "cell_type": "markdown",
   "metadata": {},
   "source": [
    "- (2) 1 or 2 or 3 or 4 "
   ]
  },
  {
   "cell_type": "code",
   "execution_count": 22,
   "metadata": {},
   "outputs": [
    {
     "name": "stdout",
     "output_type": "stream",
     "text": [
      "1\n"
     ]
    }
   ],
   "source": [
    "print (1 or 2 or 3 or 4)"
   ]
  },
  {
   "cell_type": "markdown",
   "metadata": {},
   "source": [
    "> - <b>or 연산자 : 연산자 앞이 True일 경우 뒤의 값을 평가하지 않고 앞에서 평가되어진 그 값을 바로 반환</b><br>\n",
    "\n",
    ">  1 or 2 or 3 or 4 에서 1이 True 이므로, 뒤의 값은 고려하지 않고 바로 1을 반환한다. 같은 방식으로 반복하여 결국 최종적으로 1이 반환한다."
   ]
  },
  {
   "cell_type": "markdown",
   "metadata": {},
   "source": [
    "- (3) 1 and 2 or 3 and 4 "
   ]
  },
  {
   "cell_type": "code",
   "execution_count": 30,
   "metadata": {},
   "outputs": [
    {
     "name": "stdout",
     "output_type": "stream",
     "text": [
      "2\n"
     ]
    }
   ],
   "source": [
    "print(1 and 2 or 3 and 4)"
   ]
  },
  {
   "cell_type": "markdown",
   "metadata": {},
   "source": [
    "> 1 and 2에서 1이 True이므로 뒤의 값인 2가 반환된다. 2 or 3 and 4에서 or의 좌항인 2는 True이므로, 평가 결과로 2를 반환한다."
   ]
  },
  {
   "cell_type": "markdown",
   "metadata": {},
   "source": [
    "- (4) (1 and 2) or (3 and 4)"
   ]
  },
  {
   "cell_type": "code",
   "execution_count": 35,
   "metadata": {},
   "outputs": [
    {
     "name": "stdout",
     "output_type": "stream",
     "text": [
      "2\n"
     ]
    }
   ],
   "source": [
    "print((1 and 2) or (3 and 4))"
   ]
  },
  {
   "cell_type": "markdown",
   "metadata": {},
   "source": [
    "> 위의 문제와 마찬가지이다. 이번에는 괄호를 통해 확실히 묶어주었다. 1 and 2에서 1이 True이므로 뒤의 값인 2가 반환된다. 2 or (3 and 4)에서 or의 좌항인 2는 True이므로, 평가 결과로 2를 반환한다."
   ]
  },
  {
   "cell_type": "markdown",
   "metadata": {},
   "source": [
    "- (5) 1 or 2 and 3 or 4"
   ]
  },
  {
   "cell_type": "code",
   "execution_count": 20,
   "metadata": {},
   "outputs": [
    {
     "name": "stdout",
     "output_type": "stream",
     "text": [
      "1\n"
     ]
    }
   ],
   "source": [
    "print (1 or 2 and 3 or 4)"
   ]
  },
  {
   "cell_type": "markdown",
   "metadata": {},
   "source": [
    "> 2 and 3 에서 2가 True 이므로 뒤의 값인 3이 반환된다. 1 or 3 or 4 에서 1이 True 이므로 뒤의 값은 고려하지 않고 1이 반환된다. 1 or 4 에서도 1이 True 이므로 결과적으로 1이 반환된다."
   ]
  },
  {
   "cell_type": "markdown",
   "metadata": {},
   "source": [
    "- (6) (1 or 2) and (3 or 4)"
   ]
  },
  {
   "cell_type": "code",
   "execution_count": 72,
   "metadata": {},
   "outputs": [
    {
     "name": "stdout",
     "output_type": "stream",
     "text": [
      "3\n"
     ]
    }
   ],
   "source": [
    "print ((1 or 2) and (3 or 4))"
   ]
  },
  {
   "cell_type": "markdown",
   "metadata": {},
   "source": [
    "> <b>and 으로 묶여있을 때에는 and 연산의 좌항이 True라면 우항도 확인한다. <br></b>\n",
    "> 1 or 2 에서는 1이 True이므로 1이 반환된다. 3 or 4 에서는 3이 True이므로 바로 3이 반환된다. 2 and 3 에서는 2가 True이므로 뒤의 값인 3이 반환된다."
   ]
  },
  {
   "cell_type": "markdown",
   "metadata": {},
   "source": [
    "### 2번 문제"
   ]
  },
  {
   "cell_type": "markdown",
   "metadata": {},
   "source": [
    "- 경로에 해당하는 문자열 1개를 입력 받아 그 안에 디렉토리 경로명과 파일명을 분리하여 리스트로 반환하는 함수 div_path(s)를 작성하시오.\n",
    "    - 인자로 전달하는 문자열은 경로만 들어간다고 가정한다.\n",
    "    - 각 디렉토리와 파일을 구분하는 문자는 '/'로 가정한다.\n",
    "    - 반환하는 리스트의 첫번째 원소는 디렉토리이고 두번째 원소는 파일명이다.\n",
    "    - 다음과 같은 실행 및 출력 결과가 도출되어야 한다.\n",
    "        - div_path('/usr/local/bin/python')\n",
    "            - ['/usr/local/bin', 'python']\n",
    "        - div_path('/home/chulsoo/test.txt')\n",
    "            - ['/home/chulsoo', 'test.txt']\n",
    "    - [참고] 리스트(l) 내에 새로운 정수값 (예를 들어 10)을 넣는 방법은 l.append(10) 이다."
   ]
  },
  {
   "cell_type": "code",
   "execution_count": 80,
   "metadata": {},
   "outputs": [
    {
     "name": "stdout",
     "output_type": "stream",
     "text": [
      "['/usr/local/bin', 'python']\n",
      "['/home/chulsoo', 'test.txt']\n"
     ]
    }
   ],
   "source": [
    "def div_path(s):\n",
    "    index = s.rindex('/')\n",
    "    path = s[:index]\n",
    "    name = s[index+1:]\n",
    "    return [path, name]\n",
    "\n",
    "print(div_path('/usr/local/bin/python'))\n",
    "print(div_path('/home/chulsoo/test.txt'))"
   ]
  },
  {
   "cell_type": "markdown",
   "metadata": {},
   "source": [
    "> 마지막 '/'은 디렉토리와 파일명을 분리하는 구분자이기 때문에 rindex을 이용하여 해당 문자('/')를 만나는 마지막 인덱스를 검색하였다. 해당 인덱스의 좌측은 디렉토리 경로(path)이고, 우측은 파일명(name)으로 저장하여 리스트로 반환하였다. "
   ]
  },
  {
   "cell_type": "markdown",
   "metadata": {},
   "source": [
    "### 3번 문제"
   ]
  },
  {
   "cell_type": "markdown",
   "metadata": {},
   "source": [
    "- 두 개의 리스트를 인자로 받아서 그 두 개의 리스트에 대한 '합집합'을 반환하는 함수 list_union(lista, listb)를 작성하시오\n",
    "    - 인자로 전달하는 리스트 2개는 정수값만 들어간다고 가정하자.\n",
    "    - 함수 내에서 새로운 리스트를 만들어 그 리스트 내에 인자로 받은 두 리스트의 모든 원소를 넣어 반환한다.\n",
    "    - 반환하는 리스트에는 절대로 중복된 원소가 들어 있으면 안된다 (집합의 조건).\n",
    "    - 반환하는 리스트는 정렬이 되어 있어야 한다.\n",
    "    - 다음과 같은 실행 및 출력 결과가 도출되어야 한다.\n",
    "        - list_union([1, 2, 3], [1, 2, 4])\n",
    "            - [1, 2, 3, 4]\n",
    "        - list_union([-10, -5, 0, -1], [100, 9, 0, 9])\n",
    "            - [-10, -5, -1, 0, 9, 100]\n",
    "        - list_union([0, 1, 2], [0, 1, 2])\n",
    "            - [0, 1, 2]\n",
    "    - [참고] 리스트(l) 내에 새로운 정수값 (예를 들어 10)을 넣는 방법은 l.append(10) 이다.\n",
    "    - [참고] 임의의 정수값 (x)이 리스트 (l) 내에 존재하는지 판단하는 방법은 x in l 이다."
   ]
  },
  {
   "cell_type": "code",
   "execution_count": 85,
   "metadata": {},
   "outputs": [
    {
     "name": "stdout",
     "output_type": "stream",
     "text": [
      "[1, 2, 3, 4]\n",
      "[-10, -5, -1, 0, 9, 100]\n",
      "[0, 1, 2]\n"
     ]
    }
   ],
   "source": [
    "def list_union(lista, listb):\n",
    "    listsum = lista\n",
    "    for i in listb:\n",
    "        if not i in listsum:\n",
    "            listsum.append(i)\n",
    "    listsum.sort()\n",
    "    return listsum\n",
    "\n",
    "print (list_union([1, 2, 3], [1, 2, 4]))\n",
    "print (list_union([-10, -5, 0, -1], [100, 9, 0, 9]))\n",
    "print (list_union([0, 1, 2], [0, 1, 2]))"
   ]
  },
  {
   "cell_type": "markdown",
   "metadata": {},
   "source": [
    "> 합집합을 구하는 문제이므로 우선 두 리스트 중 하나를 선택하여 새로운 리스트(listsum)에 대입한다. 그리고 선택되지 않은 리스트의 요소를 listsum에 존재하는지 검사한다. listsum에 존재하지 않으면 (not in 으로 판단) listsum에 append 시켜 합집합을 완성한다. 마지막으로 완성된 listsum을 sort 함수를 이용하여 정렬한다."
   ]
  },
  {
   "cell_type": "markdown",
   "metadata": {
    "collapsed": true
   },
   "source": [
    "### 4번 문제"
   ]
  },
  {
   "cell_type": "markdown",
   "metadata": {},
   "source": [
    "- [ACM-ICPC 문제 1110번]\n",
    "    - 더하기 사이클<br>\n",
    "     https://www.acmicpc.net/problem/1110\n",
    "     - 0보다 크거나 같고, 99보다 작거나 같은 정수가 주어질 때 다음과 같은 연산을 할 수 있다. 먼저 주어진 수가 10보다 작다면 앞에 0을 붙여 두 자리 수로 만들고, 각 자리의 숫자를 더한다. 그 다음, 주어진 수의 가장 오른쪽 자리 숫자와 앞에서 구한 합의 가장 오른쪽 자리 숫자를 이어 붙이면 새로운 수를 만들 수 있다. 다음 예를 보자.\n",
    "     - 26부터 시작한다. 2+6 = 8이다. 새로운 숫자는 68이다. 6+8 = 14이다. 새로운 숫자는 84이다. 8+4 = 12이다. 새로운 숫자는 42이다. 4+2 = 6이다. 새로운 숫자는 26이다. 위의 예는 4번만에 원래 숫자로 돌아올 수 있다. 따라서 26의 사이클의 길이는 4이다.\n",
    "     - N이 주어졌을 때, N의 사이클의 길이를 구하는 프로그램을 작성하시오.\n",
    "     \n",
    "        - [입력] 첫째 줄에 N이 주어진다. N은 0보다 크거나 같고, 99보다 작거나 같은 정수이다.\n",
    "        - [출력] 첫째 줄에 N의 사이클 길이를 출력한다."
   ]
  },
  {
   "cell_type": "code",
   "execution_count": 19,
   "metadata": {},
   "outputs": [
    {
     "name": "stdout",
     "output_type": "stream",
     "text": [
      "26\n",
      "4\n"
     ]
    }
   ],
   "source": [
    "init = int(input())\n",
    "\n",
    "if(init < 10):\n",
    "    init = str(init) + \"0\"\n",
    "    init = int(init)\n",
    "\n",
    "num = init    \n",
    "cnt = 0\n",
    "\n",
    "while(True):\n",
    "    cnt = cnt + 1\n",
    "   \n",
    "    tens = int(num / 10)\n",
    "    units = int(num % 10)\n",
    "    \n",
    "    new_units = int((tens + units) % 10)\n",
    "    new_num = str(units) + str(new_units)\n",
    "    new_num = int(new_num)\n",
    "    \n",
    "    if(new_num == int(init)): \n",
    "        print(cnt)\n",
    "        break\n",
    "        \n",
    "    num = new_num\n",
    "    "
   ]
  },
  {
   "cell_type": "markdown",
   "metadata": {},
   "source": [
    "> 1. 먼저 사용자에게 정수를 입력받고, 입력받은 수가 10보다 작으면 입력받은 수를 문자열로 변환한 뒤, \"0\"에 더하기 기호(+)를 붙여 두자리 수를 만든다. 현재 입력받은 수가 문자열로 되어있으므로 정수형으로 변환시켜준다. 무한 루프를 돌면서 나누기 연산(/)을 통해 십의 자리를 구하고, mod 연산(%)을 통해 일의 자리를 구한다. <br>\n",
    "\n",
    "> 2. 문제에서 주어진 대로 새로운 숫자의 일의 자리는 현재 숫자의 십의 자리와 일의 자리를 더한 것이다. 이는 10을 넘거나 같아질 수 있으므로  mod 연산(%)을 통해 새로운 숫자의 일의 자리를 구해준다. (타입을 명확하게 하기 위해 정수 형변환 사용)\n",
    "\n",
    "> 3. 새로운 수는 원래 수의 일의 자리와 2번에서 새로 구한 일의 자리의 조합이다. 각각을 문자열로 변환해준 뒤 더하기 기호(+)를 붙여 두자리 수를 만든다. 그리고 정수로 형변환을 해준다.\n",
    "\n",
    "> 4. 만약 새로운 숫자가 처음 사용자에게 입력받은 숫자와 같아지면 현재까지 무한 루프 반복 횟수를 저장하는 정수형 변수(cnt)을 출력한 뒤, 무한 루프를 break을 통해 빠져나간다. 그렇지 않다면 새로운 숫자는 현재 숫자가 되고, 다시 무한 루프를 돌게 된다."
   ]
  },
  {
   "cell_type": "markdown",
   "metadata": {},
   "source": [
    "![더하기 사이클](https://github.com/EunBinChoi/Script-Programming/blob/master/homework/img/1110.png?raw=true)"
   ]
  },
  {
   "cell_type": "markdown",
   "metadata": {},
   "source": [
    "### 5번 문제"
   ]
  },
  {
   "cell_type": "markdown",
   "metadata": {},
   "source": [
    "- [Incremental Project] 웹 URL로 지정된 웹페이지를 문자열로 가져와 1) 모든 HTML 태그를 제외한 순수 텍스트 문자열만을 걸러내고, 2) 그 순수 텍스트 문자열 안에 존재하는 단어가 총 몇개인지 출력하는 프로그램을 작성하시오.\n",
    "    - HTML 태그는 다음 조건을 가지는 것이다.\n",
    "    \n",
    "        - < 로 시작하여 >로 끝난다.\n",
    "        - 예를 들어, 아래와 같은 HTML 내용 내에 한 줄이 있다고 가정하자.       \n",
    "~~~\n",
    "<label for=\"keep_signed\">로그인 유지</label>\n",
    "~~~\n",
    "        - 위 소스에서 HTML 태그를 제외한 순수 텍스트 문자열은 아래와 같다.\n",
    "~~~\n",
    "로그인 유지\n",
    "~~~\n",
    "        - 한편, 아래와 같은 HTML 한 줄이 있다고 가정하자.\n",
    "~~~\n",
    "<link rel=\"stylesheet\" href=\"/common/css/xe.min.css?20150910092654\" />\n",
    "~~~        \n",
    "        - 위 소스는 HTML 태그로만 구성된 것이며 걸러낼 수 있는 순수 텍스 문자열은 존재하지 않는다.\n",
    "    - 단어를 나누는 기준은 오로지 공백문자 (whitespace)이다.\n",
    "        - 즉, 위 순수 텍스트 문자열인 \"로그인 유지\"에서 분리된 단어는 \"로그인\"과 \"유지\"이다.\n",
    "    - 중복을 고려하지 않고 무조건 모든 단어의 개수를 세어서 출력한다.\n",
    "    - 본 숙제를 위하여 HTML 파싱과 관련된 모듈(예. BeautifulSoup) 사용 금지\n",
    "    - 다음은 URL로 지정된 웹페이지를 특정 문자열로 가져오는 코드이다.\n",
    "        - 즉, 숙제 코드는 아래 코드로부터 시작해야 한다."
   ]
  },
  {
   "cell_type": "code",
   "execution_count": 24,
   "metadata": {},
   "outputs": [
    {
     "name": "stdout",
     "output_type": "stream",
     "text": [
      "컴퓨터공학부\n",
      "//\n",
      "Schoolfun\n",
      "-\n",
      "Study\n",
      "and\n",
      "Fun\n",
      "로그인\n",
      "로그인\n",
      "아이디\n",
      "비밀번호\n",
      "로그인\n",
      "유지\n",
      "브라우저를\n",
      "닫더라도\n",
      "로그인이\n",
      "계속\n",
      "유지될\n",
      "수\n",
      "있습니다.\n",
      "로그인\n",
      "유지\n",
      "기능을\n",
      "사용할\n",
      "경우\n",
      "다음\n",
      "접속부터는\n",
      "로그인할\n",
      "필요가\n",
      "없습니다.\n",
      "단,\n",
      "게임방,\n",
      "학교\n",
      "등\n",
      "공공장소에서\n",
      "이용\n",
      "시\n",
      "개인정보가\n",
      "유출될\n",
      "수\n",
      "있으니\n",
      "꼭\n",
      "로그아웃을\n",
      "해주세요.\n",
      "회원가입\n",
      "ID/PW\n",
      "찾기\n",
      "IT\n",
      "교육의\n",
      "글로벌\n",
      "메카!\n",
      "한국기술교육대학교\n",
      "컴퓨터공학부\n",
      "Close\n",
      "소개\n",
      "구성원소개\n",
      "학사안내\n",
      "입학\n",
      "학부\n",
      "대학원\n",
      "학부광장\n",
      "자료실\n",
      "대학원\n",
      "공학교육인증\n",
      "학부서비스\n",
      "Registration\n",
      "컴퓨터공학부\n",
      "School\n",
      "of\n",
      "Computer\n",
      "Science\n",
      "and\n",
      "Engineering\n",
      "IT\n",
      "융합소프트웨어\n",
      "인력양성사업\n",
      "CK\n",
      "(Creative\n",
      "Korea)-I\n",
      "교육역량강화사업\n",
      "온라인\n",
      "컨텐츠\n",
      "Online\n",
      "Contents\n",
      "for\n",
      "Education\n",
      "Capability\n",
      "Empowerment\n",
      "IT\n",
      "교육의\n",
      "글로벌\n",
      "메카\n",
      "한국기술교육대학교\n",
      "컴퓨터공학부\n",
      "홈페이지에\n",
      "오신\n",
      "것을\n",
      "환영합니다!\n",
      "IT\n",
      "융합소프트웨어\n",
      "인력양성사업\n",
      "글로벌\n",
      "수준의\n",
      "IT전문인력\n",
      "양성\n",
      "IT융합분야에\n",
      "대한\n",
      "국제적인\n",
      "경쟁력\n",
      "고취\n",
      "바로가기\n",
      "교육역량강화사업\n",
      "컨텐츠\n",
      "교육역량강화사업\n",
      "온라인\n",
      "컨텐츠를\n",
      "소개합니다.\n",
      "바로가기\n",
      "공지사항\n",
      "[특성화]\n",
      "G-STAR\n",
      "2017\n",
      "전시회\n",
      "학생\n",
      "모집\n",
      "공고\n",
      "2017-10-19\n",
      "14:46\n",
      "14:46\n",
      "[특성화]프레젠테이션\n",
      "실무\n",
      "자격증\n",
      "반\n",
      "특강\n",
      "2017-10-17\n",
      "17:41\n",
      "17:41\n",
      "2017년\n",
      "졸업작품\n",
      "영어발표\n",
      "경진대회\n",
      "및\n",
      "공학설계\n",
      "아이...\n",
      "2017-10-11\n",
      "09:24\n",
      "09:24\n",
      "[특성화]\n",
      "2017\n",
      "IT융합\n",
      "프로그래밍\n",
      "경시대회\n",
      "모집\n",
      "공고\n",
      "2017-10-10\n",
      "15:49\n",
      "15:49\n",
      "[특성화]\n",
      "ICTS\n",
      "2017\n",
      "중국\n",
      "전시회\n",
      "선발학생\n",
      "공고\n",
      "2017-09-28\n",
      "10:18\n",
      "10:18\n",
      "자유게시판\n",
      "PaaS\n",
      "&amp;amp;\n",
      "IaaS\n",
      "오라클데이\n",
      "개최\n",
      "(천안)\n",
      "2017-10-19\n",
      "08:58\n",
      "08:58\n",
      "제6회\n",
      "레몬\n",
      "정보보호\n",
      "세미나\n",
      "개최\n",
      "2017-10-06\n",
      "23:40\n",
      "23:40\n",
      "예비역\n",
      "훈련\n",
      "및\n",
      "뒤풀이\n",
      "공지!\n",
      "2017-09-19\n",
      "21:16\n",
      "21:16\n",
      "모의토익비를\n",
      "지원해드립니다.^^\n",
      "2017-09-17\n",
      "20:08\n",
      "20:08\n",
      "4공학관\n",
      "B동\n",
      "입구\n",
      "담배피우는\n",
      "문제로\n",
      "글을\n",
      "올립니다.\n",
      "2017-09-11\n",
      "22:13\n",
      "22:13\n",
      "취업게시판\n",
      "[평택]\n",
      "애디언트오토모티브인테리어코리아_IT팀\n",
      "신입사...\n",
      "2017-10-19\n",
      "08:45\n",
      "08:45\n",
      "[천안]\n",
      "(주)ABB코리아\n",
      "채용\n",
      "공고문\n",
      "-\n",
      "로봇사업부\n",
      "채용(...\n",
      "2017-09-29\n",
      "11:29\n",
      "11:29\n",
      "영풍전자(주)\n",
      "-\n",
      "[안산]_직무별[제조기술/품질/개발/마...\n",
      "2017-09-25\n",
      "10:04\n",
      "10:04\n",
      "[용인-수원(내년\n",
      "통합예정)]\n",
      "㈜라온옵틱스\n",
      "신입,\n",
      "경력...\n",
      "2017-09-25\n",
      "09:21\n",
      "09:21\n",
      "엑시콘\n",
      "산학공동연구소\n",
      "연구원\n",
      "모집(~9/18)\n",
      "2017-09-08\n",
      "13:46\n",
      "13:46\n",
      "Platum\n",
      "스타트업\n",
      "생태계\n",
      "“분위기\n",
      "좋아졌다”\n",
      "시급한\n",
      "과제는\n",
      "‘규...\n",
      "2017-10-19\n",
      "14:02\n",
      "14:02\n",
      "3D\n",
      "프린팅\n",
      "의료기업\n",
      "‘애니메디솔루션’,\n",
      "15억\n",
      "원\n",
      "투자유치\n",
      "2017-10-19\n",
      "12:29\n",
      "12:29\n",
      "넥스트플로어,\n",
      "스튜디오포립\n",
      "전략적\n",
      "투자\n",
      "2017-10-19\n",
      "12:19\n",
      "12:19\n",
      "메쉬코리아,\n",
      "올\n",
      "3분기\n",
      "누적\n",
      "거래액\n",
      "515억\n",
      "2017-10-19\n",
      "12:13\n",
      "12:13\n",
      "맹목적\n",
      "글로벌\n",
      "진출을\n",
      "목표로\n",
      "해서는\n",
      "안된다.\n",
      "2017-10-19\n",
      "12:03\n",
      "12:03\n",
      "전자신문\n",
      "삼성전자\n",
      "'빅스비\n",
      "2.0'\n",
      "공개···가전\n",
      "영역으로\n",
      "확대\n",
      "2017-10-19\n",
      "14:08\n",
      "14:08\n",
      "삼성전자\n",
      "'기어S3\n",
      "골프\n",
      "에디션'\n",
      "출시\n",
      "2017-10-19\n",
      "14:00\n",
      "14:00\n",
      "정의석\n",
      "삼성전자\n",
      "부사장\n",
      "“빅스비\n",
      "2.0\n",
      "디지털\n",
      "생활...\n",
      "2017-10-19\n",
      "14:00\n",
      "14:00\n",
      "\"한국\n",
      "등\n",
      "아시아가\n",
      "5G\n",
      "선도···성장속도는\n",
      "북미가\n",
      "...\n",
      "2017-10-19\n",
      "13:59\n",
      "13:59\n",
      "SK텔레콤,\n",
      "AI\n",
      "네트워크\n",
      "'탱고'\n",
      "통신\n",
      "전\n",
      "영역에\n",
      "확대\n",
      "2017-10-19\n",
      "13:57\n",
      "13:57\n",
      "TechCrunch\n",
      "Tony\n",
      "Fadell’s\n",
      "newest\n",
      "product?\n",
      "An\n",
      "investing\n",
      "and...\n",
      "2017-10-19\n",
      "15:15\n",
      "15:15\n",
      "Crunch\n",
      "Report\n",
      "|\n",
      "Snapchat\n",
      "Halloween\n",
      "Costume\n",
      "2017-10-19\n",
      "12:30\n",
      "12:30\n",
      "This\n",
      "ultra-cute\n",
      "tiny\n",
      "PS4\n",
      "controller\n",
      "is\n",
      "a\n",
      "great...\n",
      "2017-10-19\n",
      "09:36\n",
      "09:36\n",
      "MongoDB\n",
      "prices\n",
      "its\n",
      "IPO\n",
      "at\n",
      "$24\n",
      "per\n",
      "share\n",
      "2017-10-19\n",
      "09:11\n",
      "09:11\n",
      "Atlas\n",
      "Informatics\n",
      "calls\n",
      "it\n",
      "quits\n",
      "after\n",
      "less\n",
      "th...\n",
      "2017-10-19\n",
      "08:43\n",
      "08:43\n",
      "Back\n",
      "to\n",
      "Top\n",
      "Leading\n",
      "Together\n",
      "for\n",
      "Brighter\n",
      "Future\n",
      "Quick\n",
      "Navigation\n",
      "한국기술교육대학교\n",
      "홈페이지\n",
      "한국기술교육대학교\n",
      "WEBMAIL\n",
      "한국기술교육대학교\n",
      "온라인\n",
      "평생교육원\n",
      "IT\n",
      "융합소프트웨어\n",
      "인력양성사업\n",
      "컴퓨터공학부\n",
      "교직원\n",
      "업무\n",
      "자료실\n",
      "컴퓨터공학부\n",
      "포트폴리오\n",
      "Campus\n",
      "Location\n",
      "Contact\n",
      "CSE\n",
      "충청남도\n",
      "천안시\n",
      "동남구\n",
      "병천면\n",
      "충절로\n",
      "1600\n",
      "한국기술교육대학교\n",
      "컴퓨터공학부\n",
      "학과사무실\n",
      "TEL\n",
      "(041)\n",
      "560\n",
      "1460\n",
      "~\n",
      "1461\n",
      "FAX\n",
      "(041)\n",
      "560\n",
      "1462\n",
      "Facebook\n",
      "Twitter\n",
      "Google\n",
      "Plus\n",
      "Linkedin\n",
      "(31253)\n",
      "충청남도\n",
      "천안시\n",
      "동남구\n",
      "병천면\n",
      "충절로\n",
      "1600\n",
      "(가전리,\n",
      "한국기술교육대학교)\n",
      "컴퓨터공학부\n",
      "Copyright\n",
      "©\n",
      "2015.\n",
      "All\n",
      "rights\n",
      "reserved\n",
      "464\n"
     ]
    }
   ],
   "source": [
    "# 주의사항 \n",
    "\n",
    "# 문자열이 오면 무조건 strip 불러서 양쪽 공백을 지우는 것\n",
    "# 특수문자나 숫자 \n",
    "# 로그인@유지 -> 하나의 단어\n",
    "# 로그인 @ 유지 -> 3개의 단어\n",
    "# 로그인 10 유지 -> 3개의 단어\n",
    "# 단어의 개수가 중요한게 아니고 어떻게 푸는지가 중요함\n",
    "# 주석 태그 <!-- --> => 다 없애야함(별도로 취급) (뭐가 들어갔던 전체를 없애기)\n",
    "\n",
    "from urllib import request \n",
    " \n",
    "url = 'http://cse.koreatech.ac.kr'\n",
    "f = request.urlopen(url)\n",
    "source_bytes = f.read()\n",
    "source = source_bytes.decode('utf-8')\n",
    "text = ''\n",
    "\n",
    "# 추후 숙제 답안 제출 때엔 아래 코드는 주석처리할 것                 \n",
    "#print(type(source_bytes))\n",
    "#print(type(source))\n",
    "\n",
    "# 추후 숙제 답안 제출 때엔 아래 코드는 주석처리할 것\n",
    "#print(source)\n",
    "\n",
    "number=len(source)\n",
    "test=''\n",
    "wordlist=[]\n",
    "for i in range(0,number):\n",
    "    if(i==0 and source[i]!='<'):\n",
    "        j=i\n",
    "        while((source[j]!='<') and (j<number-1)):\n",
    "            j+=1\n",
    "        text=source[i:j]\n",
    "        wordlist.extend(text.split())\n",
    "        i=j\n",
    "    elif((source[i]=='<') and (i!=number-1)):\n",
    "        j=i+1\n",
    "        while((source[j]!='>') and (source[j+1]!='=') and (j<number-1)):\n",
    "            j+=1\n",
    "        i=j\n",
    "    elif((source[i]=='>') and (i!=number-1)):\n",
    "        j=i+1\n",
    "        while((source[j]!='<') and (j<number-1)):\n",
    "            j+=1\n",
    "        text=source[i+1:j]\n",
    "        if('-->' not in text):\n",
    "            wordlist.extend(text.split())\n",
    "        i=j\n",
    "for i in range(0,len(wordlist)):\n",
    "    print (wordlist[i])\n",
    "print (len(wordlist))"
   ]
  },
  {
   "cell_type": "markdown",
   "metadata": {},
   "source": [
    "> 1. 첫 문자가 만약 < 가 아닐때는 < 가 나올때까지 진행시켜 그때까지의 문자열을 슬라이싱한다. 슬라이싱한 문자열을 공백을 기준으로 나누어 순수 텍스트 문자열 리스트에 추가해준다.\n",
    "> 2. < 가 등장하고 나서는 > 가 나올때 까지 그냥 지나간다. 그 때, >= 와 같은 부등호가 아닐 때까지 그냥 지나간다. 만약 > 가 등장 했다면, < 가 나올때까지 지나가다가 < 가 나오면 > 다음부터 < 바로 전까지의 문자열을 슬라이싱 해서 그것을 공백을 기준으로 나누어 리스트에 추가해준다. 이 때, html의 주석인 <-- --> 안에 html코드가 있는 경우 -->가 슬라이싱 되므로, 그것인지 아닌지를 한번 판단해주고 나서 넣어주도록 한다.\n",
    "> 3. 마지막의 for문은 프로그램을 통해 추출한 순수 텍스트 문자열이 어떤 것이 있는 지 볼 수 있도록 한다. 또한 마지막에 단어의 총 개수도 함께 출력한다."
   ]
  },
  {
   "cell_type": "markdown",
   "metadata": {
    "collapsed": true
   },
   "source": [
    "---\n",
    "소감 : 이번 과제는 첫번째 과제와 달리 생각해야하는 문제가 많았습니다. 나름대로 구글링을 하면서 다양한 생각을 할 수 있었던 것 같습니다. 정확하게 파이썬 개념을 정립하고 문제 해결력을 기르는 데 많은 도움이 된 것 같습니다. 항상 좋은 내용으로 수업해주셔서 감사드립니다. 더 열심히 하겠습니다. 감사합니다!"
   ]
  }
 ],
 "metadata": {
  "kernelspec": {
   "display_name": "Python 3",
   "language": "python",
   "name": "python3"
  },
  "language_info": {
   "codemirror_mode": {
    "name": "ipython",
    "version": 3
   },
   "file_extension": ".py",
   "mimetype": "text/x-python",
   "name": "python",
   "nbconvert_exporter": "python",
   "pygments_lexer": "ipython3",
   "version": "3.6.1"
  }
 },
 "nbformat": 4,
 "nbformat_minor": 2
}
