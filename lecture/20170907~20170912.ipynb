{
 "cells": [
  {
   "cell_type": "code",
   "execution_count": 1,
   "metadata": {
    "collapsed": true
   },
   "outputs": [],
   "source": [
    "# 1. Python 시작하기\n",
    "\n",
    "import sys # 객체"
   ]
  },
  {
   "cell_type": "code",
   "execution_count": 2,
   "metadata": {},
   "outputs": [
    {
     "name": "stdout",
     "output_type": "stream",
     "text": [
      "9\n",
      "Hello World!\n"
     ]
    }
   ],
   "source": [
    "print(4+5)\n",
    "print(\"Hello World!\")"
   ]
  },
  {
   "cell_type": "code",
   "execution_count": 3,
   "metadata": {},
   "outputs": [
    {
     "name": "stdout",
     "output_type": "stream",
     "text": [
      "9\n",
      "-20\n",
      "54\n",
      "34\n",
      "1.8\n",
      "1.8\n",
      "1.8\n"
     ]
    }
   ],
   "source": [
    "# -*- coding: utf-8 -*- # 파이썬에서 선언자 역할을 함 (#는 주석처리, 이 기호 하나)\n",
    "# utf-8  : 코딩을 한글로 하기 위함(기본은 아스키코드)\n",
    "# 주피터 노트북은 이게 없어도 해석 가능하지만 ipython이나 pycharm에서 필요\n",
    "\n",
    "print(4 + 5)\n",
    "print(12 - 32)\n",
    "print((4 + 5) * 6)\n",
    "print(4 + 5 * 6)\n",
    "print(9 / 5)        # 정수/정수 연산 결과는 정수\n",
    "print(9.0 / 5.0)\n",
    "print(9 / 5.0)"
   ]
  },
  {
   "cell_type": "code",
   "execution_count": 4,
   "metadata": {},
   "outputs": [
    {
     "name": "stdout",
     "output_type": "stream",
     "text": [
      "Hello\n",
      "Hi there!\n"
     ]
    }
   ],
   "source": [
    "# 이중 따옴표, 단일 따옴표 모두 문자열\n",
    "\n",
    "print('Hello')\n",
    "print(\"Hi there!\")"
   ]
  },
  {
   "cell_type": "code",
   "execution_count": 5,
   "metadata": {},
   "outputs": [
    {
     "name": "stdout",
     "output_type": "stream",
     "text": [
      "3.6.1 |Anaconda 4.4.0 (64-bit)| (default, May 11 2017, 13:25:24) [MSC v.1900 64 bit (AMD64)]\n"
     ]
    }
   ],
   "source": [
    "print(sys.version)"
   ]
  },
  {
   "cell_type": "code",
   "execution_count": 6,
   "metadata": {},
   "outputs": [
    {
     "name": "stdout",
     "output_type": "stream",
     "text": [
      "['False', 'None', 'True', 'and', 'as', 'assert', 'break', 'class', 'continue', 'def', 'del', 'elif', 'else', 'except', 'finally', 'for', 'from', 'global', 'if', 'import', 'in', 'is', 'lambda', 'nonlocal', 'not', 'or', 'pass', 'raise', 'return', 'try', 'while', 'with', 'yield']\n",
      "\n",
      "33\n"
     ]
    }
   ],
   "source": [
    "# 2. 파이썬 언어의 기본문형\n",
    "\n",
    "import keyword\n",
    "\n",
    "print(keyword.kwlist) # 키워드들은 진한 녹색으로 처리됨\n",
    "print()\n",
    "print(len(keyword.kwlist)) # len : 내장함수(원소의 갯수를 저장함)\n",
    "\n",
    "# 내장함수는 별도의 모듈 추가 없이 출력이 가능함\n",
    "# 모듈 추가 : import sys과 같은 것\n",
    "\n",
    "# python3에 추가됨 : 'False', 'None', 'True', 'nonlocal' \n",
    "# python3에서는 제거됨 : 'exec', 'print'\n",
    "#\n",
    "# Python2 : \n",
    "# ['and', 'as', 'assert', 'break', 'class', \n",
    "# 'continue', 'def', 'del', 'elif', 'else', \n",
    "# 'except', 'exec', 'finally', 'for', 'from', \n",
    "# 'global', 'if', 'import', 'in', 'is', 'lambda', \n",
    "# 'not', 'or', 'pass', 'print', 'raise', 'return', \n",
    "# 'try', 'while', 'with', 'yield']\n",
    "#\n",
    "# 31"
   ]
  },
  {
   "cell_type": "code",
   "execution_count": 7,
   "metadata": {},
   "outputs": [
    {
     "name": "stdout",
     "output_type": "stream",
     "text": [
      "2\n",
      "3\n",
      "y\n"
     ]
    }
   ],
   "source": [
    "# [] -> list라고 부름\n",
    "print(max(1,2)) \n",
    "print(max([1,2,3]))\n",
    "print(max(\"python\"))"
   ]
  },
  {
   "cell_type": "code",
   "execution_count": 8,
   "metadata": {
    "collapsed": true
   },
   "outputs": [],
   "source": [
    "? max"
   ]
  },
  {
   "cell_type": "code",
   "execution_count": 9,
   "metadata": {},
   "outputs": [
    {
     "name": "stdout",
     "output_type": "stream",
     "text": [
      "16\n",
      "27\n",
      "0.5\n"
     ]
    }
   ],
   "source": [
    "# pow는 무조건 원소가 두개 나옴\n",
    "print(pow(2, 4))\n",
    "\n",
    "\n",
    "print(pow(3, 3))\n",
    "print(pow(2, -1))"
   ]
  },
  {
   "cell_type": "code",
   "execution_count": 10,
   "metadata": {},
   "outputs": [
    {
     "name": "stdout",
     "output_type": "stream",
     "text": [
      "a\n",
      "A\n",
      "0\n"
     ]
    }
   ],
   "source": [
    "# chr ; 유니코드 값을 문자로 변환(유니코드는 4 바이트이니까 엄청 큰 값까지 가능)\n",
    "# 스페이스, 리턴(제어문자)는 출력이 되지 않음\n",
    "print(chr(97))\n",
    "print(chr(65))\n",
    "print(chr(48))\n",
    "\n"
   ]
  },
  {
   "cell_type": "code",
   "execution_count": 11,
   "metadata": {
    "collapsed": true
   },
   "outputs": [],
   "source": [
    "? chr"
   ]
  },
  {
   "cell_type": "code",
   "execution_count": 12,
   "metadata": {
    "collapsed": true
   },
   "outputs": [],
   "source": [
    "# 파이썬에서는 char이라는 개념이 없음\n",
    "# 'a' , \"a\"이 같은 값\n",
    "# 파이썬에서는 string이라는 개념만 존재"
   ]
  },
  {
   "cell_type": "code",
   "execution_count": 13,
   "metadata": {},
   "outputs": [
    {
     "name": "stdout",
     "output_type": "stream",
     "text": [
      "3\n"
     ]
    }
   ],
   "source": [
    "print(1+2)"
   ]
  },
  {
   "cell_type": "code",
   "execution_count": 14,
   "metadata": {},
   "outputs": [
    {
     "name": "stdout",
     "output_type": "stream",
     "text": [
      "12\n",
      "3\n"
     ]
    }
   ],
   "source": [
    "#print(1+'2')\n",
    "print(str(1)+'2') # str라는 함수로 문자열화시켜줌\n",
    "print(1 + int('2'))"
   ]
  },
  {
   "cell_type": "code",
   "execution_count": 15,
   "metadata": {},
   "outputs": [
    {
     "data": {
      "text/plain": [
       "3"
      ]
     },
     "execution_count": 15,
     "metadata": {},
     "output_type": "execute_result"
    }
   ],
   "source": [
    "#  절대값으로 반환\n",
    "abs(3)"
   ]
  },
  {
   "cell_type": "code",
   "execution_count": 16,
   "metadata": {
    "collapsed": true
   },
   "outputs": [],
   "source": [
    "? abs"
   ]
  },
  {
   "cell_type": "code",
   "execution_count": 17,
   "metadata": {
    "collapsed": true
   },
   "outputs": [],
   "source": [
    "# 함수(function) : 함수도 수로 끝남\n",
    "# f(x) = x + 3\n",
    "# f(1) = 4(f라는 함수가 4가 됨, 함수도 의미가 내포된 기능이 있는 수)\n",
    "# 파라미터를 넣어서 바뀔수 있는 수를 가져옴"
   ]
  },
  {
   "cell_type": "code",
   "execution_count": 18,
   "metadata": {
    "collapsed": true
   },
   "outputs": [],
   "source": [
    "abs(-4) # 이 결과창이 보여주는 Out[]은 주피터 노트북에서 해주는 것\n",
    "# Out[] : side effect(부작용)이라고 불림\n",
    "a = abs(-4) # 이렇게 하면 Out[] 창이 나오지 않음"
   ]
  },
  {
   "cell_type": "code",
   "execution_count": 19,
   "metadata": {},
   "outputs": [
    {
     "name": "stdout",
     "output_type": "stream",
     "text": [
      "4\n"
     ]
    }
   ],
   "source": [
    "print(abs(-4)) # print에 의해서 Out 없이 나옴"
   ]
  },
  {
   "cell_type": "code",
   "execution_count": 20,
   "metadata": {},
   "outputs": [
    {
     "name": "stdout",
     "output_type": "stream",
     "text": [
      "[5, 6, 7, 8, 9]\n",
      "[]\n",
      "[0, 5]\n",
      "range(0, 10)\n",
      "range(3, 10)\n",
      "range(3, 10, 2)\n",
      "\n",
      "[0, 1, 2, 3, 4, 5, 6, 7, 8, 9]\n",
      "[3, 4, 5, 6, 7, 8, 9]\n",
      "[3, 5, 7, 9]\n",
      "[]\n",
      "[3, 2, 1, 0, -1, -2, -3, -4, -5, -6, -7, -8, -9]\n",
      "[0, -1, -2, -3, -4, -5, -6, -7, -8, -9]\n"
     ]
    }
   ],
   "source": [
    "# range(10) # range(0,10) 동일 # 초기값은 0, 마지막 값은 10이전까지\n",
    "# stop para10eter는 안들어감\n",
    "a = range(5,10)\n",
    "print(list(a))\n",
    "\n",
    "a = range(10,10)\n",
    "print(list(a))\n",
    "\n",
    "\n",
    "a = range(0,10,5)\n",
    "print(list(a))\n",
    "\n",
    "print(range(10))\n",
    "print(range(3, 10))\n",
    "print(range(3, 10, 2))\n",
    "# [0, 1, 2, 3, 4, 5, 6, 7, 8, 9]\n",
    "# [3, 4, 5, 6, 7, 8, 9]\n",
    "# [3, 5, 7, 9]\n",
    "print()\n",
    "\n",
    "print(list(range(10)))\n",
    "print(list(range(3, 10)))\n",
    "print(list(range(3, 10, 2)))\n",
    "\n",
    "# 이런거까지 중간고사 내지 않음\n",
    "print(list(range(3, 10, -1)))\n",
    "print(list(range(3, -10, -1)))\n",
    "print(list(range(0, -10, -1)))"
   ]
  },
  {
   "cell_type": "code",
   "execution_count": 21,
   "metadata": {
    "collapsed": true
   },
   "outputs": [],
   "source": [
    "? range\n",
    "# range(start, stop[,step]) : []안에 있는 것은 써도 되고 안써도 된다\n",
    "# step 값이 없으면 0, 있으면 증가값\n",
    "\n",
    "# python2 에서는 range가 list가 반환됨, python3 에서는 range 객체가 반환됨"
   ]
  },
  {
   "cell_type": "code",
   "execution_count": 22,
   "metadata": {},
   "outputs": [
    {
     "name": "stdout",
     "output_type": "stream",
     "text": [
      "<class 'int'>\n"
     ]
    }
   ],
   "source": [
    "type(a)\n",
    "# range\n",
    "\n",
    "a = 1 # 여기서 1은 리터럴(literal), a도 리터럴\n",
    "# a = 1이라는 것이 그냥 문자가 됨(아직 수치라는 것을 반영하기 전)\n",
    "# 키워드, for, if 리터럴\n",
    "# 메모리 속에 heap이라는 자료구조가 생기는데 1이 들어가있음\n",
    "\n",
    "# C나 자바에는 heap에 1이 들어가지 않음\n",
    "# activation record(함수 호출을 관리)이 있음\n",
    "# a = new Interger(1) ==> 이건 파이썬에서 a = 1와 같음\n",
    "\n",
    "print(type(a))\n",
    "# class int가 됨\n"
   ]
  },
  {
   "cell_type": "code",
   "execution_count": 23,
   "metadata": {},
   "outputs": [
    {
     "data": {
      "text/plain": [
       "range"
      ]
     },
     "execution_count": 23,
     "metadata": {},
     "output_type": "execute_result"
    }
   ],
   "source": [
    "# ? range\n",
    "# return 해주는 것은 range object(range 객체)\n",
    "a = range(10)\n",
    "# 위의 명령문은 a가 range 객체\n",
    "type(a) # 타입, 형, 클래스가 뭐야? (다 같은 말임, 타입=형=클래스)"
   ]
  },
  {
   "cell_type": "code",
   "execution_count": 24,
   "metadata": {
    "collapsed": true
   },
   "outputs": [],
   "source": [
    "b = list(a) # list으로 변환시킴\n",
    "# list가 좋은 점 print가 가능"
   ]
  },
  {
   "cell_type": "code",
   "execution_count": 25,
   "metadata": {},
   "outputs": [
    {
     "data": {
      "text/plain": [
       "list"
      ]
     },
     "execution_count": 25,
     "metadata": {},
     "output_type": "execute_result"
    }
   ],
   "source": [
    "type(b)"
   ]
  },
  {
   "cell_type": "code",
   "execution_count": 26,
   "metadata": {},
   "outputs": [
    {
     "name": "stdout",
     "output_type": "stream",
     "text": [
      "[0, 1, 2, 3, 4, 5, 6, 7, 8, 9]\n"
     ]
    }
   ],
   "source": [
    "print(b)"
   ]
  },
  {
   "cell_type": "code",
   "execution_count": 27,
   "metadata": {},
   "outputs": [
    {
     "data": {
      "text/plain": [
       "3"
      ]
     },
     "execution_count": 27,
     "metadata": {},
     "output_type": "execute_result"
    }
   ],
   "source": [
    "#a. => 멤버변수랑 메소드가 나옴\n",
    "a = 4\n",
    "a.bit_length() # 4는 100이니까 .big_length() 값이 3이 나옴"
   ]
  },
  {
   "cell_type": "code",
   "execution_count": 28,
   "metadata": {},
   "outputs": [
    {
     "name": "stdout",
     "output_type": "stream",
     "text": [
      "<class 'str'>\n"
     ]
    }
   ],
   "source": [
    "a = 'abs'\n",
    "print(type(a))"
   ]
  },
  {
   "cell_type": "code",
   "execution_count": 29,
   "metadata": {},
   "outputs": [
    {
     "name": "stdout",
     "output_type": "stream",
     "text": [
      "<class 'float'>\n"
     ]
    }
   ],
   "source": [
    "a = 1.2\n",
    "print(type(a))"
   ]
  },
  {
   "cell_type": "code",
   "execution_count": 30,
   "metadata": {},
   "outputs": [
    {
     "name": "stdout",
     "output_type": "stream",
     "text": [
      "<class 'int'>\n"
     ]
    }
   ],
   "source": [
    "# 파이썬은 long이 없음\n",
    "a = 100000000000000000000000000000000000000000000000000000 * 10000000000000000000\n",
    "print(type(a))\n",
    "# 길이에 제한이 없음\n",
    "# 메모리가 혀옹하는 거 다 담을 수있음\n",
    "# -무한 ~ 무한"
   ]
  },
  {
   "cell_type": "code",
   "execution_count": 31,
   "metadata": {
    "collapsed": true
   },
   "outputs": [],
   "source": [
    "# 파이썬에서는 double이 없음\n",
    "# 원래 더블은 소수 점 및을 자세하게 표현하기 위함"
   ]
  },
  {
   "cell_type": "code",
   "execution_count": 32,
   "metadata": {},
   "outputs": [
    {
     "name": "stdout",
     "output_type": "stream",
     "text": [
      "<class 'float'>\n",
      "1.4321646513212314\n"
     ]
    }
   ],
   "source": [
    "a = 1.4321646513212313465465456123132132164\n",
    "print(type(a)) # 소수점 밑에까지 다 표현이 되지 않음\n",
    "print(a)"
   ]
  },
  {
   "cell_type": "code",
   "execution_count": 33,
   "metadata": {},
   "outputs": [
    {
     "name": "stdout",
     "output_type": "stream",
     "text": [
      "<class 'list'>\n",
      "[1, 2, 3]\n"
     ]
    }
   ],
   "source": [
    "a = [1,2,3] # []는 list를 표현하기 위한 리터럴, list => 집합형 자료구조\n",
    "print(type(a)) \n",
    "print(a)\n"
   ]
  },
  {
   "cell_type": "code",
   "execution_count": 34,
   "metadata": {},
   "outputs": [
    {
     "name": "stdout",
     "output_type": "stream",
     "text": [
      "<class 'int'>\n",
      "2\n"
     ]
    }
   ],
   "source": [
    "a = max(1,2)\n",
    "print(type(a))\n",
    "# 함수의 타입을 알 수 있음 # 내장 함수 되게되게 중요!!!!!!!!!!!\n",
    "print(a)"
   ]
  },
  {
   "cell_type": "code",
   "execution_count": 35,
   "metadata": {
    "collapsed": true
   },
   "outputs": [],
   "source": [
    "# 2. 파이썬 식별자와 변수 사용"
   ]
  },
  {
   "cell_type": "markdown",
   "metadata": {},
   "source": [
    "식별자(identifier), 이름(name)을 비교해야함\n",
    "이름이 다 다르면 우리를 식별할 수 있는 식별자가 됨\n",
    "\n",
    "< 식별자이면서 동시에 이름인 것 >\n",
    "1. 변수명 => 가장 대표적인 식별자\n",
    "변수는 대부분 다 객체를 가지고 있음\n",
    "2. 함수명\n",
    "3. 클래스명\n",
    "4. 모듈명\n",
    "\n",
    "** 파이썬은 대소문자를 구분함(식별자를 만들 때 조심해야함\n",
    "\n",
    "-대소문자 구별함\n",
    "-식별자는 문자 A~Z 또는 a~z과 언더바(_)로 시작할 수 있다.\n",
    "-식별자 첫 시작을 제외하고 식별자 내에 숫자(0~9)를 사용할 수 있다.\n",
    "-특수문자 @, $, % 등은 식별자의 어느 자리에도 올 수 없다.\n",
    "\n",
    "-예를 들어 다음과 같은 것은 식별자가 될 수 없음\n",
    "\n",
    "1abc, @file, %x, a%a, a$a, a@a\n"
   ]
  },
  {
   "cell_type": "code",
   "execution_count": 36,
   "metadata": {},
   "outputs": [
    {
     "name": "stdout",
     "output_type": "stream",
     "text": [
      "1\n",
      "1\n"
     ]
    }
   ],
   "source": [
    "A = 1\n",
    "a = 1\n",
    "print(A);print(a)\n",
    "\n",
    "# 가운데에 ;가 있는 것은 문장의 끝을 나타냄\n",
    "# 한 줄에 문장이 두개 있음\n",
    "\n",
    "# ;(세미콜론)은 문장의 끝을 나타냄\n",
    "# python은 기본적으로 세미콜론(;)이 숨어있음\n",
    "# 파이썬은 라인이 끝나면서 내려가는 순간 세미콜론이 숨어있음"
   ]
  },
  {
   "cell_type": "code",
   "execution_count": 37,
   "metadata": {
    "collapsed": true
   },
   "outputs": [],
   "source": [
    "A4a = 1\n",
    "a111111111111a = 2\n",
    "\n",
    "# 변수명으로 가능\n",
    "# 하지만 숫자로 시작할 수는 없음"
   ]
  },
  {
   "cell_type": "code",
   "execution_count": 38,
   "metadata": {
    "collapsed": true
   },
   "outputs": [],
   "source": [
    "# def는 식별자, print도 식별자(함수 이름)\n",
    "# 우리가 만든 함수 이름 aaa도 식별자\n",
    "# 함수 이름에 숫자가 들어가도 식별자\n",
    "# 함수 이름에 _을 사용할 수 있음\n",
    "\n",
    "def a11111111a(): # 반드시 콜론이 있으면 tab이 되어야함\n",
    "    print(1)"
   ]
  },
  {
   "cell_type": "code",
   "execution_count": 39,
   "metadata": {
    "collapsed": true
   },
   "outputs": [],
   "source": [
    "_a = 10\n",
    "# 특수한 변수의 의미 => 변수명에 _이 있는 것\n",
    "# @, %, $ 이런건 식별자로 쓰이지 않음"
   ]
  },
  {
   "cell_type": "code",
   "execution_count": 40,
   "metadata": {},
   "outputs": [
    {
     "name": "stdout",
     "output_type": "stream",
     "text": [
      "123456\n"
     ]
    },
    {
     "data": {
      "text/plain": [
       "str"
      ]
     },
     "execution_count": 40,
     "metadata": {},
     "output_type": "execute_result"
    }
   ],
   "source": [
    "print(str(123456)) # 현재 123456은 string\n",
    "type(str(123456))"
   ]
  },
  {
   "cell_type": "code",
   "execution_count": 41,
   "metadata": {},
   "outputs": [
    {
     "data": {
      "text/plain": [
       "int"
      ]
     },
     "execution_count": 41,
     "metadata": {},
     "output_type": "execute_result"
    }
   ],
   "source": [
    "str = 100 # integer \n",
    "type(str)"
   ]
  },
  {
   "cell_type": "code",
   "execution_count": 44,
   "metadata": {
    "collapsed": true
   },
   "outputs": [],
   "source": [
    "#print(str(123456)) # 123456은 string인데, str은 integer임  \n",
    "# str(string 형태)를 하기 때문에 안됨\n",
    "# 'int' object is not callable (int 객체는 함수 호출 할 수 없습니다)"
   ]
  },
  {
   "cell_type": "code",
   "execution_count": 45,
   "metadata": {},
   "outputs": [
    {
     "name": "stdout",
     "output_type": "stream",
     "text": [
      "100.0\n"
     ]
    }
   ],
   "source": [
    "print(float(str))"
   ]
  },
  {
   "cell_type": "code",
   "execution_count": 46,
   "metadata": {
    "collapsed": true
   },
   "outputs": [],
   "source": [
    "str = \"1234\""
   ]
  },
  {
   "cell_type": "code",
   "execution_count": 47,
   "metadata": {},
   "outputs": [
    {
     "name": "stdout",
     "output_type": "stream",
     "text": [
      "1234\n"
     ]
    }
   ],
   "source": [
    "print(str)"
   ]
  },
  {
   "cell_type": "code",
   "execution_count": 48,
   "metadata": {
    "collapsed": true
   },
   "outputs": [],
   "source": [
    "# 부동 소수점 실수 자료형\n",
    "# https://datascienceschool.net/view-notebook/148fc57f684c4dc48eeb5048ab0d45f2/\n",
    "# 읽어보기\n",
    "\n",
    "a = 0.2 # 이런 값이 컴퓨터에 저장될 때 무한소수가 되는데 이걸 10진수로 바꿔서 프맅느 한게 밑의 결과..."
   ]
  },
  {
   "cell_type": "code",
   "execution_count": 49,
   "metadata": {},
   "outputs": [
    {
     "data": {
      "text/plain": [
       "'%.55f'"
      ]
     },
     "execution_count": 49,
     "metadata": {},
     "output_type": "execute_result"
    }
   ],
   "source": [
    "%precision 55 \n",
    "# 매직 명령어"
   ]
  },
  {
   "cell_type": "code",
   "execution_count": 50,
   "metadata": {},
   "outputs": [
    {
     "data": {
      "text/plain": [
       "0.2000000000000000111022302462515654042363166809082031250"
      ]
     },
     "execution_count": 50,
     "metadata": {},
     "output_type": "execute_result"
    }
   ],
   "source": [
    "a # 정확하게 표현을 못함(어림잡아 함)"
   ]
  },
  {
   "cell_type": "code",
   "execution_count": 51,
   "metadata": {},
   "outputs": [
    {
     "data": {
      "text/plain": [
       "False"
      ]
     },
     "execution_count": 51,
     "metadata": {},
     "output_type": "execute_result"
    }
   ],
   "source": [
    "0.1 + 0.2 == 0.3\n",
    "# 두개가 다르다고 뜸"
   ]
  },
  {
   "cell_type": "markdown",
   "metadata": {},
   "source": [
    "파이썬은 typed langugage가 아님\n",
    "q => 이렇게 코딩할 수 없음\n",
    "파이썬은 미리 변수를 선언할 수 없음\n",
    "값이 반드시 들어올 때만 선언이 가능함\n",
    "\n",
    "C언어와 비교하자면 int a = 10이 되야지 선엉니 가능함\n",
    "\n",
    "파이썬에서 변수가 생성되는 시점은 해당 변수에 임의의 값이 할당될 때이다."
   ]
  },
  {
   "cell_type": "code",
   "execution_count": 52,
   "metadata": {
    "collapsed": true
   },
   "outputs": [],
   "source": [
    "q = None # 이게 int a와 표현이 거의 유사함\n",
    "# q에는 None 객체가 선언됨\n",
    "# 아무것도 없다는 의미를 가지고 있는 것이 None"
   ]
  },
  {
   "cell_type": "code",
   "execution_count": 53,
   "metadata": {},
   "outputs": [
    {
     "name": "stdout",
     "output_type": "stream",
     "text": [
      "<class 'NoneType'>\n"
     ]
    }
   ],
   "source": [
    "print(type(q)) # None도 객체"
   ]
  },
  {
   "cell_type": "markdown",
   "metadata": {},
   "source": [
    "변수의 생성 없이 곧바로 사용할 수 없다."
   ]
  },
  {
   "cell_type": "code",
   "execution_count": 54,
   "metadata": {
    "collapsed": true
   },
   "outputs": [],
   "source": [
    "#print(uuuuuuu)"
   ]
  },
  {
   "cell_type": "markdown",
   "metadata": {},
   "source": [
    "<h3> 2-4 변수의 삭제 </h3>"
   ]
  },
  {
   "cell_type": "code",
   "execution_count": 55,
   "metadata": {},
   "outputs": [
    {
     "name": "stdout",
     "output_type": "stream",
     "text": [
      "2\n"
     ]
    }
   ],
   "source": [
    "b = 2\n",
    "print(b)\n",
    "\n",
    "#del b # del는 쓸 수 없게 됨\n",
    "#print(b)"
   ]
  },
  {
   "cell_type": "markdown",
   "metadata": {},
   "source": [
    "<h3>3 파이썬 기초 문형</h3>"
   ]
  },
  {
   "cell_type": "code",
   "execution_count": 56,
   "metadata": {},
   "outputs": [
    {
     "name": "stdout",
     "output_type": "stream",
     "text": [
      "connected lines\n"
     ]
    }
   ],
   "source": [
    "a = 1\n",
    "b = 3\n",
    "# 라인 하나를 분리시킨 것\n",
    "if (a == 1) and \\\n",
    "(b == 3):\n",
    "    print('connected lines')"
   ]
  },
  {
   "cell_type": "code",
   "execution_count": 57,
   "metadata": {
    "collapsed": true
   },
   "outputs": [],
   "source": [
    "a \\\n",
    "= 1"
   ]
  },
  {
   "cell_type": "code",
   "execution_count": 58,
   "metadata": {},
   "outputs": [
    {
     "name": "stdout",
     "output_type": "stream",
     "text": [
      "3 4\n",
      "0 0 0\n",
      "3.5 5.6\n"
     ]
    }
   ],
   "source": [
    "c, d = 3, 4\n",
    "print(c, d) # ,로 프린트 할 수 있음\n",
    "\n",
    "x = y = z = 0 # z, y, x 순으로 들어감\n",
    "print(x, y, z)\n",
    "\n",
    "e = 3.5; f = 5.6 # statement 자체가 두개 있음\n",
    "print(e, f)"
   ]
  },
  {
   "cell_type": "code",
   "execution_count": 59,
   "metadata": {
    "collapsed": true
   },
   "outputs": [],
   "source": [
    "q, w, e,r,t,y,u,i,o,p = 10,9,8,7,6,5,4,3,2,1"
   ]
  },
  {
   "cell_type": "code",
   "execution_count": 60,
   "metadata": {},
   "outputs": [
    {
     "name": "stdout",
     "output_type": "stream",
     "text": [
      "10 9 8 7 6 5 4 3 2 1\n"
     ]
    }
   ],
   "source": [
    "print(q,w,e,r,t,y,u,i,o,p)"
   ]
  },
  {
   "cell_type": "markdown",
   "metadata": {},
   "source": [
    "두 변수의 값을 swap하는 방법"
   ]
  },
  {
   "cell_type": "code",
   "execution_count": 61,
   "metadata": {},
   "outputs": [
    {
     "name": "stdout",
     "output_type": "stream",
     "text": [
      "5.6 3.5\n"
     ]
    }
   ],
   "source": [
    "e = 3.5; f = 5.6\n",
    "e, f = f, e\n",
    "print(e, f) # \\swap이 가능"
   ]
  },
  {
   "cell_type": "markdown",
   "metadata": {},
   "source": [
    "아래에서 b = c + d는 식(Expression)이 아니라 문(Statement)이기 때문에 a에 할당될 수 없다."
   ]
  },
  {
   "cell_type": "code",
   "execution_count": 62,
   "metadata": {
    "collapsed": true
   },
   "outputs": [],
   "source": [
    "# a = (b = c + d) # 괄호 안에가 statement가 됨\n",
    "# a = ___________ (expression)(식)\n",
    "# a = 1 + 5 - a\n",
    "# (b = c + d)이게 statement인데, statment를 a에 할당하시오\n",
    "\n",
    "a = b = c + d # 가능\n"
   ]
  },
  {
   "cell_type": "markdown",
   "metadata": {},
   "source": [
    "<h3>3-4 확장 할당문"
   ]
  },
  {
   "cell_type": "code",
   "execution_count": 63,
   "metadata": {
    "collapsed": true
   },
   "outputs": [],
   "source": [
    "#a ++; 이러한 것은 파이썬에 없음\n",
    "a += y #(확장 할당문)"
   ]
  },
  {
   "cell_type": "code",
   "execution_count": 64,
   "metadata": {},
   "outputs": [
    {
     "name": "stdout",
     "output_type": "stream",
     "text": [
      "50\n"
     ]
    }
   ],
   "source": [
    "a = 10\n",
    "a *= 2+3 # 2+3이 먼저 됨\n",
    "# 이건 a = a*(2+3)와 같음\n",
    "print(a)"
   ]
  },
  {
   "cell_type": "markdown",
   "metadata": {},
   "source": [
    "<h2>3-5 객체와 할당"
   ]
  },
  {
   "cell_type": "code",
   "execution_count": 65,
   "metadata": {},
   "outputs": [
    {
     "name": "stdout",
     "output_type": "stream",
     "text": [
      "[1, 2, 3]\n",
      "[10, [1, 2, 3], 20]\n",
      "['x', [1, 2, 3], 'y']\n"
     ]
    }
   ],
   "source": [
    "a = [1,2,3]\n",
    "# 여기서 1,2,3 모두 다 객체\n",
    "\n",
    "b = [10, a, 20]\n",
    "c = ['x', a, 'y']\n",
    "\n",
    "# 밑에처럼 내용이 잘 나온는 것은 print가 해주는 일임\n",
    "print(a) \n",
    "print(b)\n",
    "print(c)"
   ]
  },
  {
   "cell_type": "code",
   "execution_count": 66,
   "metadata": {},
   "outputs": [
    {
     "name": "stdout",
     "output_type": "stream",
     "text": [
      "[1, 1000, 3]\n",
      "[10, [1, 1000, 3], 20]\n",
      "['x', [1, 1000, 3], 'y']\n"
     ]
    }
   ],
   "source": [
    "a[1] = 1000 # 파이썬은 인덱스가 0부터 시작\n",
    "# 1은 두번째 값\n",
    "\n",
    "print(a)\n",
    "print(b)\n",
    "print(c)"
   ]
  },
  {
   "cell_type": "markdown",
   "metadata": {},
   "source": [
    "<H2>4 콘솔 입출력"
   ]
  },
  {
   "cell_type": "code",
   "execution_count": 67,
   "metadata": {},
   "outputs": [
    {
     "name": "stdout",
     "output_type": "stream",
     "text": [
      "name?\n"
     ]
    }
   ],
   "source": [
    "# 입력을 받을 수 있음\n",
    "# raw_input(PYTHON2) 에서 input(PYTHON3) 으로 변경\n",
    "# name = raw_input('name?')\n",
    "name = input('name?')"
   ]
  },
  {
   "cell_type": "code",
   "execution_count": 68,
   "metadata": {},
   "outputs": [
    {
     "name": "stdout",
     "output_type": "stream",
     "text": [
      "\n"
     ]
    },
    {
     "data": {
      "text/plain": [
       "str"
      ]
     },
     "execution_count": 68,
     "metadata": {},
     "output_type": "execute_result"
    }
   ],
   "source": [
    "print(name)\n",
    "type(name) # str이 나옴, 콘솔로 들어가는 모든 입력은 string"
   ]
  },
  {
   "cell_type": "code",
   "execution_count": 69,
   "metadata": {},
   "outputs": [
    {
     "ename": "TypeError",
     "evalue": "int() argument must be a string, a bytes-like object or a number, not 'list'",
     "output_type": "error",
     "traceback": [
      "\u001b[1;31m---------------------------------------------------------------------------\u001b[0m",
      "\u001b[1;31mTypeError\u001b[0m                                 Traceback (most recent call last)",
      "\u001b[1;32m<ipython-input-69-8d21c5e1252e>\u001b[0m in \u001b[0;36m<module>\u001b[1;34m()\u001b[0m\n\u001b[1;32m----> 1\u001b[1;33m \u001b[0mname\u001b[0m \u001b[1;33m+=\u001b[0m \u001b[0mint\u001b[0m\u001b[1;33m(\u001b[0m\u001b[0ma\u001b[0m\u001b[1;33m)\u001b[0m\u001b[1;33m\u001b[0m\u001b[0m\n\u001b[0m\u001b[0;32m      2\u001b[0m \u001b[1;31m# 문자열과 1을 더할 수 없기 때문에 에러 메세지 듬\u001b[0m\u001b[1;33m\u001b[0m\u001b[1;33m\u001b[0m\u001b[0m\n",
      "\u001b[1;31mTypeError\u001b[0m: int() argument must be a string, a bytes-like object or a number, not 'list'"
     ]
    }
   ],
   "source": [
    "name += int(a)\n",
    "# 문자열과 1을 더할 수 없기 때문에 에러 메세지 듬"
   ]
  },
  {
   "cell_type": "code",
   "execution_count": 70,
   "metadata": {},
   "outputs": [
    {
     "name": "stdout",
     "output_type": "stream",
     "text": [
      "abs11\n"
     ]
    }
   ],
   "source": [
    "string = 'abs'\n",
    "string = string + '1'\n",
    "string += '1'\n",
    "print(string)"
   ]
  },
  {
   "cell_type": "code",
   "execution_count": 71,
   "metadata": {},
   "outputs": [
    {
     "name": "stdout",
     "output_type": "stream",
     "text": [
      "111\n",
      "111\n"
     ]
    }
   ],
   "source": [
    "string = \"111\"\n",
    "string = int(string)\n",
    "print(string)\n",
    "\n",
    "string = 111\n",
    "print(string)\n",
    "\n",
    "#print(str(string))\n",
    "#type(string)\n",
    "\n",
    "#print(string)\n",
    "#a = 2\n",
    "#a += str(1)"
   ]
  },
  {
   "cell_type": "code",
   "execution_count": 72,
   "metadata": {
    "collapsed": true
   },
   "outputs": [],
   "source": [
    "? str"
   ]
  },
  {
   "cell_type": "code",
   "execution_count": 73,
   "metadata": {},
   "outputs": [
    {
     "name": "stdout",
     "output_type": "stream",
     "text": [
      "123\n"
     ]
    }
   ],
   "source": [
    "#int(0)\n",
    "#str(\"안녕하세요\")\n",
    "print(int(\"123\"))"
   ]
  },
  {
   "cell_type": "code",
   "execution_count": 4,
   "metadata": {},
   "outputs": [],
   "source": [
    "# print(12 + 'apam')\n",
    "# +가 자료형 변환을 해주지 않는다"
   ]
  },
  {
   "cell_type": "code",
   "execution_count": 5,
   "metadata": {},
   "outputs": [
    {
     "name": "stdout",
     "output_type": "stream",
     "text": [
      "12apam\n"
     ]
    }
   ],
   "source": [
    "print('12' + 'apam') # 이렇게 해줘야함"
   ]
  },
  {
   "cell_type": "code",
   "execution_count": null,
   "metadata": {
    "collapsed": true
   },
   "outputs": [],
   "source": []
  }
 ],
 "metadata": {
  "kernelspec": {
   "display_name": "Python 3",
   "language": "python",
   "name": "python3"
  },
  "language_info": {
   "codemirror_mode": {
    "name": "ipython",
    "version": 3
   },
   "file_extension": ".py",
   "mimetype": "text/x-python",
   "name": "python",
   "nbconvert_exporter": "python",
   "pygments_lexer": "ipython3",
   "version": "3.6.1"
  }
 },
 "nbformat": 4,
 "nbformat_minor": 2
}
