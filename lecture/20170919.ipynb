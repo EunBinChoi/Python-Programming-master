{
 "cells": [
  {
   "cell_type": "markdown",
   "metadata": {},
   "source": [
    "<h3>* Markdown에 대한 이야기 *</h3>\n",
    "프로그래머를 위한 언어 \n",
    "블로그를 이용하라!(마크다운을 지원하는 블로그가 좋음)\n",
    "\n",
    "단축기 M을 누르면 Markdown cell로 넘어갑니다\n",
    "\n",
    "아래한글 => 그래픽한 에디터\n",
    "우리는 텍스트 기반 에디터를 많이 사용할 줄 알아야한다\n",
    "=> 이걸 그래픽 에디터로 바꿀 수 있는...\n",
    "\n",
    "markdown online editor => markdown 연습하기 좋음 이용하기"
   ]
  },
  {
   "cell_type": "markdown",
   "metadata": {},
   "source": [
    "[![N|Solid](https://cldup.com/dTxpPi9lDf.thumb.png)](https://nodesource.com/products/nsolid)"
   ]
  },
  {
   "cell_type": "markdown",
   "metadata": {},
   "source": [
    "![caption](img/1.jpg)"
   ]
  },
  {
   "cell_type": "markdown",
   "metadata": {},
   "source": [
    "<img src = \"img/1.jpg\", height = \"50%\", width = \"30%\"/>"
   ]
  },
  {
   "cell_type": "markdown",
   "metadata": {},
   "source": [
    "### 1번 문제 (3개 정도가 무난)"
   ]
  },
  {
   "cell_type": "markdown",
   "metadata": {},
   "source": [
    "<img src = \"img/1.jpg\", height = \"50%\", width = \"30%\"/>"
   ]
  },
  {
   "cell_type": "markdown",
   "metadata": {},
   "source": [
    "#~######까지 존재=>\n",
    "html언어 hy~/hy와 동일"
   ]
  },
  {
   "cell_type": "markdown",
   "metadata": {},
   "source": [
    "- a=\"Hello Python\" 문자열을 Slicing과 연결 연산자 (+)를 사용하여 \"Python Hello\"로 변경하시오.\n",
    "    - [주의] a 변수 자체에 \"Python Hello\" 문자열이 저장되어야 함\n",
    "    - 11111\n",
    "    - 22222\n",
    "    - 33333\n",
    "- yyyyyy\n",
    "- yyyzzz\n",
    "    - 4444\n",
    "    - dddd\n"
   ]
  },
  {
   "cell_type": "markdown",
   "metadata": {},
   "source": [
    "## 중요한 것은 url 을 따와야함\n"
   ]
  },
  {
   "cell_type": "code",
   "execution_count": null,
   "metadata": {
    "collapsed": true
   },
   "outputs": [],
   "source": []
  }
 ],
 "metadata": {
  "kernelspec": {
   "display_name": "Python 3",
   "language": "python",
   "name": "python3"
  },
  "language_info": {
   "codemirror_mode": {
    "name": "ipython",
    "version": 3
   },
   "file_extension": ".py",
   "mimetype": "text/x-python",
   "name": "python",
   "nbconvert_exporter": "python",
   "pygments_lexer": "ipython3",
   "version": "3.6.1"
  }
 },
 "nbformat": 4,
 "nbformat_minor": 2
}
