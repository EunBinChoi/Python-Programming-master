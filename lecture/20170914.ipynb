{
 "cells": [
  {
   "cell_type": "code",
   "execution_count": 1,
   "metadata": {},
   "outputs": [
    {
     "ename": "ModuleNotFoundError",
     "evalue": "No module named 'print_options'",
     "output_type": "error",
     "traceback": [
      "\u001b[1;31m---------------------------------------------------------------------------\u001b[0m",
      "\u001b[1;31mModuleNotFoundError\u001b[0m                       Traceback (most recent call last)",
      "\u001b[1;32m<ipython-input-1-13c8d689a788>\u001b[0m in \u001b[0;36m<module>\u001b[1;34m()\u001b[0m\n\u001b[1;32m----> 1\u001b[1;33m \u001b[1;32mimport\u001b[0m \u001b[0mprint_options\u001b[0m\u001b[1;33m\u001b[0m\u001b[0m\n\u001b[0m",
      "\u001b[1;31mModuleNotFoundError\u001b[0m: No module named 'print_options'"
     ]
    }
   ],
   "source": [
    "#import print_options #모듈 추가가 필요"
   ]
  },
  {
   "cell_type": "code",
   "execution_count": 2,
   "metadata": {},
   "outputs": [
    {
     "ename": "SyntaxError",
     "evalue": "invalid syntax (<ipython-input-2-a98d0747a873>, line 1)",
     "output_type": "error",
     "traceback": [
      "\u001b[1;36m  File \u001b[1;32m\"<ipython-input-2-a98d0747a873>\"\u001b[1;36m, line \u001b[1;32m1\u001b[0m\n\u001b[1;33m    print [\"{0:0.2f}\".format(i) for i in a]\u001b[0m\n\u001b[1;37m                                  ^\u001b[0m\n\u001b[1;31mSyntaxError\u001b[0m\u001b[1;31m:\u001b[0m invalid syntax\n"
     ]
    }
   ],
   "source": [
    "#print [\"{0:0.2f}\".format(i) for i in a]"
   ]
  },
  {
   "cell_type": "code",
   "execution_count": 5,
   "metadata": {},
   "outputs": [
    {
     "name": "stdout",
     "output_type": "stream",
     "text": [
      "0.15\n"
     ]
    }
   ],
   "source": [
    "print (\"{0:0.2f}\".format(0.14533))"
   ]
  },
  {
   "cell_type": "code",
   "execution_count": 7,
   "metadata": {},
   "outputs": [
    {
     "name": "stdout",
     "output_type": "stream",
     "text": [
      "0.14533\n"
     ]
    }
   ],
   "source": [
    "print (\"{0:0.5f}\".format(0.14533))"
   ]
  },
  {
   "cell_type": "code",
   "execution_count": 13,
   "metadata": {},
   "outputs": [
    {
     "name": "stdout",
     "output_type": "stream",
     "text": [
      "0.14545613\n"
     ]
    }
   ],
   "source": [
    "x = 0.14545613\n",
    "print(float(x))"
   ]
  },
  {
   "cell_type": "code",
   "execution_count": 14,
   "metadata": {},
   "outputs": [
    {
     "name": "stdout",
     "output_type": "stream",
     "text": [
      "3\n",
      "-3\n"
     ]
    }
   ],
   "source": [
    "print(int(3.991592))\n",
    "# 버림\n",
    "\n",
    "print(int(-3.141592))"
   ]
  },
  {
   "cell_type": "code",
   "execution_count": 20,
   "metadata": {},
   "outputs": [
    {
     "name": "stdout",
     "output_type": "stream",
     "text": [
      "<class 'tuple'>\n",
      "\n",
      "<class 'int'>\n",
      "18.45216910555504\n"
     ]
    }
   ],
   "source": [
    "a = divmod(5, 2) # 몫과 나머지를 튜플 형태로 리턴\n",
    "print(type(a))\n",
    "print()\n",
    "print(type(pow(2, 3)))\n",
    "print(pow(2.3, 3.5))"
   ]
  },
  {
   "cell_type": "code",
   "execution_count": 21,
   "metadata": {},
   "outputs": [
    {
     "name": "stdout",
     "output_type": "stream",
     "text": [
      "3.141592653589793\n",
      "2.718281828459045\n",
      "0.8414709848078965\n",
      "1.4142135623730951\n"
     ]
    }
   ],
   "source": [
    "import math\n",
    "\n",
    "print(math.pi)\n",
    "print(math.e)\n",
    "print(math.sin(1.0)) # 1.0 라디안에 대한 사인 값\n",
    "print(math.sqrt(2)) # 제곱근\n",
    "\n",
    "# 3.14159265359\n",
    "# 2.71828182846\n",
    "# 0.841470984808\n",
    "# 1.41421356237"
   ]
  },
  {
   "cell_type": "code",
   "execution_count": 22,
   "metadata": {},
   "outputs": [
    {
     "name": "stdout",
     "output_type": "stream",
     "text": [
      "0.8660254037844386 0.5000000000000001 1.7320508075688767\n"
     ]
    }
   ],
   "source": [
    "r = 5.0 # 반지름\n",
    "a = math.pi * r * r # 면적\n",
    "\n",
    "degree = 60.0\n",
    "rad = math.pi * degree / 180.0 # 각도를 라디안으로 변환\n",
    "print(math.sin(rad), math.cos(rad), math.tan(rad)) #sin, cos, tan)\n",
    "# 0.866025403784 0.5 1.73205080757"
   ]
  },
  {
   "cell_type": "code",
   "execution_count": null,
   "metadata": {
    "collapsed": true
   },
   "outputs": [],
   "source": []
  },
  {
   "cell_type": "markdown",
   "metadata": {},
   "source": [
    "## 2 문자열"
   ]
  },
  {
   "cell_type": "code",
   "execution_count": 26,
   "metadata": {},
   "outputs": [
    {
     "name": "stdout",
     "output_type": "stream",
     "text": [
      "Hello ' ' ' ' ' World!\n"
     ]
    }
   ],
   "source": [
    "print(\"Hello ' ' ' ' ' World!\")\n",
    "\n",
    "#print(\"Hello \" \" \" \" \" World!\") #error\n"
   ]
  },
  {
   "cell_type": "code",
   "execution_count": 19,
   "metadata": {},
   "outputs": [
    {
     "name": "stdout",
     "output_type": "stream",
     "text": [
      "\n",
      "To be, or not to be\n",
      "that is the question\n",
      "\n",
      "4\n",
      "\n",
      "To be, or not to be\n",
      "that is the question\n",
      "\n"
     ]
    }
   ],
   "source": [
    "multiline = '''\n",
    "To be, or not to be\n",
    "that is the question\n",
    "'''\n",
    "print(multiline)\n",
    "\n",
    "multiline ='''\n",
    "a\n",
    "b\n",
    "'''\n",
    "print(len(multiline))\n",
    "# 이 안에 문자가 몇 개입니까?\n",
    "# \n",
    "\n",
    "multiline2 = \"\"\"\n",
    "To be, or not to be\n",
    "that is the question\n",
    "\"\"\"\n",
    "print(multiline2)"
   ]
  },
  {
   "cell_type": "markdown",
   "metadata": {},
   "source": [
    "파이썬은 array 없음\n",
    "indexing 해서 부분 문자열을 가지고 올 수 있음"
   ]
  },
  {
   "cell_type": "code",
   "execution_count": 35,
   "metadata": {},
   "outputs": [
    {
     "name": "stdout",
     "output_type": "stream",
     "text": [
      "H\n",
      "e\n",
      "!\n",
      "d\n"
     ]
    }
   ],
   "source": [
    "s = \"Hello world!\"\n",
    "print(s[0])\n",
    "print(s[1])\n",
    "print(s[-1])\n",
    "print(s[-2])"
   ]
  },
  {
   "cell_type": "code",
   "execution_count": 5,
   "metadata": {},
   "outputs": [
    {
     "name": "stdout",
     "output_type": "stream",
     "text": [
      "el\n",
      "Hello\n"
     ]
    }
   ],
   "source": [
    "s = \"Hello world!\"\n",
    "print(s[1:3]) # 3은 나오지 않음 1,2\n",
    "print(s[0:5]) # 5는 나오지 않음"
   ]
  },
  {
   "cell_type": "code",
   "execution_count": 7,
   "metadata": {},
   "outputs": [
    {
     "name": "stdout",
     "output_type": "stream",
     "text": [
      "ello\n",
      "Hel\n",
      "Hello\n"
     ]
    }
   ],
   "source": [
    "s = 'Hello'\n",
    "print(s[1:])\n",
    "print(s[:3]) # start index가 없을 땐 0부터 시작\n",
    "print(s[:])"
   ]
  },
  {
   "cell_type": "code",
   "execution_count": 17,
   "metadata": {},
   "outputs": [
    {
     "name": "stdout",
     "output_type": "stream",
     "text": [
      "ac\n",
      "ac\n",
      "dcba\n",
      "dcba\n"
     ]
    }
   ],
   "source": [
    "s = 'abcd'\n",
    "print(s[::2])\n",
    "print(s[0:4:2]) # 윗 문장과 똑같은 의미\n",
    "print(s[4::-1])\n",
    "print(s[4::-1]) # 문자열 뒤집기"
   ]
  },
  {
   "cell_type": "code",
   "execution_count": 27,
   "metadata": {},
   "outputs": [
    {
     "name": "stdout",
     "output_type": "stream",
     "text": [
      "a\n"
     ]
    }
   ],
   "source": [
    "a = 'asda'\n",
    "print(a[0::-1])"
   ]
  },
  {
   "cell_type": "code",
   "execution_count": 28,
   "metadata": {},
   "outputs": [
    {
     "name": "stdout",
     "output_type": "stream",
     "text": [
      "adsa\n"
     ]
    }
   ],
   "source": [
    "a = 'asda'\n",
    "print(a[-1::-1])"
   ]
  },
  {
   "cell_type": "markdown",
   "metadata": {},
   "source": [
    " step이 음수이면 start 디폴트 인덱스가 -1(???)"
   ]
  },
  {
   "cell_type": "code",
   "execution_count": 23,
   "metadata": {},
   "outputs": [
    {
     "ename": "TypeError",
     "evalue": "'str' object does not support item assignment",
     "output_type": "error",
     "traceback": [
      "\u001b[1;31m---------------------------------------------------------------------------\u001b[0m",
      "\u001b[1;31mTypeError\u001b[0m                                 Traceback (most recent call last)",
      "\u001b[1;32m<ipython-input-23-ec499002afb8>\u001b[0m in \u001b[0;36m<module>\u001b[1;34m()\u001b[0m\n\u001b[0;32m      1\u001b[0m \u001b[0ms\u001b[0m \u001b[1;33m=\u001b[0m \u001b[1;34m'Hello World'\u001b[0m\u001b[1;33m\u001b[0m\u001b[0m\n\u001b[1;32m----> 2\u001b[1;33m \u001b[0ms\u001b[0m\u001b[1;33m[\u001b[0m\u001b[1;36m0\u001b[0m\u001b[1;33m]\u001b[0m \u001b[1;33m=\u001b[0m \u001b[1;34m'h'\u001b[0m \u001b[1;31m# item assignment\u001b[0m\u001b[1;33m\u001b[0m\u001b[0m\n\u001b[0m",
      "\u001b[1;31mTypeError\u001b[0m: 'str' object does not support item assignment"
     ]
    }
   ],
   "source": [
    "s = 'Hello World'\n",
    "s[0] = 'h' # item assignment"
   ]
  },
  {
   "cell_type": "markdown",
   "metadata": {},
   "source": [
    "- 문자열을 변경하려면 Slicing 및 연결 연산 (+)을 주로 이용한다."
   ]
  },
  {
   "cell_type": "code",
   "execution_count": null,
   "metadata": {
    "collapsed": true
   },
   "outputs": [],
   "source": []
  }
 ],
 "metadata": {
  "kernelspec": {
   "display_name": "Python 3",
   "language": "python",
   "name": "python3"
  },
  "language_info": {
   "codemirror_mode": {
    "name": "ipython",
    "version": 3
   },
   "file_extension": ".py",
   "mimetype": "text/x-python",
   "name": "python",
   "nbconvert_exporter": "python",
   "pygments_lexer": "ipython3",
   "version": "3.6.1"
  }
 },
 "nbformat": 4,
 "nbformat_minor": 2
}
